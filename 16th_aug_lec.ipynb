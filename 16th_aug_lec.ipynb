{
  "nbformat": 4,
  "nbformat_minor": 0,
  "metadata": {
    "colab": {
      "name": "16th_aug_lec.ipynb",
      "provenance": [],
      "authorship_tag": "ABX9TyMHJV6sGV3R773GWtWT8tMI",
      "include_colab_link": true
    },
    "kernelspec": {
      "name": "python3",
      "display_name": "Python 3"
    },
    "language_info": {
      "name": "python"
    },
    "accelerator": "GPU",
    "gpuClass": "standard"
  },
  "cells": [
    {
      "cell_type": "markdown",
      "metadata": {
        "id": "view-in-github",
        "colab_type": "text"
      },
      "source": [
        "<a href=\"https://colab.research.google.com/github/SigmaRajput/ML_classes_2022/blob/master/16th_aug_lec.ipynb\" target=\"_parent\"><img src=\"https://colab.research.google.com/assets/colab-badge.svg\" alt=\"Open In Colab\"/></a>"
      ]
    },
    {
      "cell_type": "code",
      "execution_count": 2,
      "metadata": {
        "id": "LZknG6Vi-w4y"
      },
      "outputs": [],
      "source": [
        "# Raggged tensor\n",
        "# matrix having irregular number of columns for each row\n",
        "# eg: 0 1 3 4\n",
        "#     3 4\n",
        "#     1 4 3\n",
        "#     4"
      ]
    },
    {
      "cell_type": "code",
      "source": [
        "import tensorflow as tf"
      ],
      "metadata": {
        "id": "7hJBL3KS_hDn"
      },
      "execution_count": 1,
      "outputs": []
    },
    {
      "cell_type": "code",
      "source": [
        "ragged_list =[\n",
        "    [0,1,2,3],\n",
        "    [4,5],\n",
        "    [6,7,8],\n",
        "    [9]\n",
        "]\n",
        "print(ragged_list)\n",
        "\n",
        "try:\n",
        "  ragged_tensor = tf.ragged.constant(ragged_list)\n",
        "except Exception as e:\n",
        "  print(f\"{type(e).__name__}: {e}\")\n",
        "print(ragged_tensor)"
      ],
      "metadata": {
        "colab": {
          "base_uri": "https://localhost:8080/"
        },
        "id": "3Tu9BDRrAzlT",
        "outputId": "0b8cf336-f8b5-449e-f5e7-b0afeae15218"
      },
      "execution_count": 3,
      "outputs": [
        {
          "output_type": "stream",
          "name": "stdout",
          "text": [
            "[[0, 1, 2, 3], [4, 5], [6, 7, 8], [9]]\n",
            "<tf.RaggedTensor [[0, 1, 2, 3], [4, 5], [6, 7, 8], [9]]>\n"
          ]
        }
      ]
    },
    {
      "cell_type": "code",
      "source": [
        "scalar_string_tensor = tf.constant(\"Gray wolf\")\n",
        "# rank 0\n",
        "print(scalar_string_tensor)\n",
        "\n",
        "tensor_of_string = tf.constant([\"Gray wolf\", \"Quick brown fox\", \"Lazy dog\"])\n",
        "# rank 1\n",
        "print(tensor_of_string)\n"
      ],
      "metadata": {
        "id": "XQmWDjrqCf8S",
        "outputId": "5bf4d9f5-1011-43a8-ea5a-50d0c1e171b6",
        "colab": {
          "base_uri": "https://localhost:8080/"
        }
      },
      "execution_count": 4,
      "outputs": [
        {
          "output_type": "stream",
          "name": "stdout",
          "text": [
            "tf.Tensor(b'Gray wolf', shape=(), dtype=string)\n",
            "tf.Tensor([b'Gray wolf' b'Quick brown fox' b'Lazy dog'], shape=(3,), dtype=string)\n"
          ]
        }
      ]
    },
    {
      "cell_type": "code",
      "source": [
        "print(tf.strings.split(scalar_string_tensor, sep =\" \"))\n",
        "# seperated on the basis of seperator passed\n",
        "print(tf.strings.split(tensor_of_string))\n",
        "# it will convert to a list of list"
      ],
      "metadata": {
        "id": "f_-oMPl9Epy3",
        "outputId": "7cd522b0-a6e3-4962-9866-c438d0902395",
        "colab": {
          "base_uri": "https://localhost:8080/"
        }
      },
      "execution_count": 9,
      "outputs": [
        {
          "output_type": "stream",
          "name": "stdout",
          "text": [
            "tf.Tensor([b'Gray' b'wolf'], shape=(2,), dtype=string)\n",
            "<tf.RaggedTensor [[b'Gray', b'wolf'], [b'Quick', b'brown', b'fox'], [b'Lazy', b'dog']]>\n"
          ]
        }
      ]
    },
    {
      "cell_type": "code",
      "source": [
        "byte_strings = tf.strings.bytes_split(tf.constant(\"Duck\"))\n",
        "# Split byte by byte for a given string\n",
        "byte_ints = tf.io.decode_raw(tf.constant(\"Duck\"), tf.uint8)\n",
        "# respective byte string value(ASCII) conversion\n",
        "print(\"Byte strings:\", byte_strings)\n",
        "print(\"Bytes:\", byte_ints)"
      ],
      "metadata": {
        "id": "vQYPH1eQFaiG",
        "outputId": "0e2fbf8b-845d-4623-bab3-807256aa2132",
        "colab": {
          "base_uri": "https://localhost:8080/"
        }
      },
      "execution_count": 10,
      "outputs": [
        {
          "output_type": "stream",
          "name": "stdout",
          "text": [
            "Byte strings: tf.Tensor([b'D' b'u' b'c' b'k'], shape=(4,), dtype=string)\n",
            "Bytes: tf.Tensor([ 68 117  99 107], shape=(4,), dtype=uint8)\n"
          ]
        }
      ]
    },
    {
      "cell_type": "code",
      "source": [
        "sparse_tensor = tf.sparse.SparseTensor(indices = [[0,0], [1,2]],\n",
        "                                      values = [1,2],\n",
        "                                      dense_shape = [3,4])\n",
        "print(sparse_tensor,\"\\n\")\n",
        "print(tf.sparse.to_dense(sparse_tensor))\n"
      ],
      "metadata": {
        "id": "8DUo9RGTIBN4",
        "outputId": "6660e621-c8b4-41c9-a64b-8926528a7029",
        "colab": {
          "base_uri": "https://localhost:8080/"
        }
      },
      "execution_count": 13,
      "outputs": [
        {
          "output_type": "stream",
          "name": "stdout",
          "text": [
            "SparseTensor(indices=tf.Tensor(\n",
            "[[0 0]\n",
            " [1 2]], shape=(2, 2), dtype=int64), values=tf.Tensor([1 2], shape=(2,), dtype=int32), dense_shape=tf.Tensor([3 4], shape=(2,), dtype=int64)) \n",
            "\n",
            "tf.Tensor(\n",
            "[[1 0 0 0]\n",
            " [0 0 2 0]\n",
            " [0 0 0 0]], shape=(3, 4), dtype=int32)\n"
          ]
        }
      ]
    },
    {
      "cell_type": "code",
      "source": [
        "rank_4_tensor=tf.zeros([3,2,4,5])\n",
        "# rank 4 :[ Batch, width, Height,Features]\n",
        "print(\"Type of every element:\",rank_4_tensor.dtype)\n",
        "print(\"number of Dimentions:\",rank_4_tensor.ndim)\n",
        "print(\"shape of tensor:\",rank_4_tensor.shape)\n",
        "print(\"Element along axis 0 of tensor:\",rank_4_tensor.shape[0])\n",
        "print(\"Element along last axis of tensor:\",rank_4_tensor.shape[1])\n",
        "print(\"Total number of elements(3*2*4*5):\",tf.size(rank_4_tensor).numpy)"
      ],
      "metadata": {
        "id": "RTGwZPVfQsLp",
        "outputId": "bb113437-2d02-4a9b-bd2d-68e7c5b4f1af",
        "colab": {
          "base_uri": "https://localhost:8080/"
        }
      },
      "execution_count": 11,
      "outputs": [
        {
          "output_type": "stream",
          "name": "stdout",
          "text": [
            "Type of every element: <dtype: 'float32'>\n",
            "number of Dimentions: 4\n",
            "shape of tensor: (3, 2, 4, 5)\n",
            "Element along axis 0 of tensor: 3\n",
            "Element along last axis of tensor: 2\n",
            "Total number of elements(3*2*4*5): <bound method _EagerTensorBase.numpy of <tf.Tensor: shape=(), dtype=int32, numpy=120>>\n"
          ]
        }
      ]
    }
  ]
}