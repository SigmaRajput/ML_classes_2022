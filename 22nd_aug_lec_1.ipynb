{
  "nbformat": 4,
  "nbformat_minor": 0,
  "metadata": {
    "colab": {
      "name": "22nd_aug_lec_1.ipynb",
      "provenance": [],
      "authorship_tag": "ABX9TyNe79x9/vyHlOjDxFbzw3ul",
      "include_colab_link": true
    },
    "kernelspec": {
      "name": "python3",
      "display_name": "Python 3"
    },
    "language_info": {
      "name": "python"
    },
    "accelerator": "GPU",
    "gpuClass": "standard"
  },
  "cells": [
    {
      "cell_type": "markdown",
      "metadata": {
        "id": "view-in-github",
        "colab_type": "text"
      },
      "source": [
        "<a href=\"https://colab.research.google.com/github/SigmaRajput/ML_classes_2022/blob/master/22nd_aug_lec_1.ipynb\" target=\"_parent\"><img src=\"https://colab.research.google.com/assets/colab-badge.svg\" alt=\"Open In Colab\"/></a>"
      ]
    },
    {
      "cell_type": "code",
      "execution_count": 2,
      "metadata": {
        "id": "nitsOJdR3Y9D"
      },
      "outputs": [],
      "source": [
        "#difference between classification and regrestion\n",
        "\n",
        "import tensorflow as tf\n",
        "\n",
        "#for data generation weight and bias is needed\n",
        "TRUE_W = 3.6\n",
        "TRUE_b = 1.4\n",
        "\n",
        "NUM_EXAMPLES = 10000\n",
        "learning_rate = 1.0\n",
        "\n",
        "inputs = tf.random.normal(shape = [NUM_EXAMPLES])\n",
        "noise = tf.random.normal(shape = [NUM_EXAMPLES])\n",
        "outputs = inputs * TRUE_W+ TRUE_b + noise #### y = mx + c -->> m is weight and bias is y intercept"
      ]
    },
    {
      "cell_type": "code",
      "source": [
        "import matplotlib.pyplot as plt\n",
        "plt.scatter(inputs,outputs, c = 'b')"
      ],
      "metadata": {
        "colab": {
          "base_uri": "https://localhost:8080/",
          "height": 282
        },
        "id": "u9DcX7AUAt_M",
        "outputId": "0af76c0d-e66b-4c39-d2ac-0f609db768ad"
      },
      "execution_count": 3,
      "outputs": [
        {
          "output_type": "execute_result",
          "data": {
            "text/plain": [
              "<matplotlib.collections.PathCollection at 0x7f00223a3ad0>"
            ]
          },
          "metadata": {},
          "execution_count": 3
        },
        {
          "output_type": "display_data",
          "data": {
            "text/plain": [
              "<Figure size 432x288 with 1 Axes>"
            ],
            "image/png": "[encoded data removed]"
          },
          "metadata": {
            "needs_background": "light"
          }
        }
      ]
    },
    {
      "cell_type": "code",
      "source": [
        "class Model(object):\n",
        "  def __init__(self):\n",
        "    self.W = tf.Variable(5.0)\n",
        "    self.b = tf.Variable(0.0)\n",
        "  \n",
        "  def __call__(self,x):\n",
        "    return self.W * x + self.b ### output calculation\n",
        "  \n",
        "model = Model()\n",
        "assert model(3.0).numpy() == 15.0"
      ],
      "metadata": {
        "id": "eIJjHG8sA37a"
      },
      "execution_count": 4,
      "outputs": []
    },
    {
      "cell_type": "code",
      "source": [
        "## to find diff between calculated value and actial value of v\n",
        "\n",
        "def loss(target_y, predicted_y):\n",
        "  return tf. reduce_mean(tf.square(target_y - predicted_y))"
      ],
      "metadata": {
        "id": "f7-0IIG4D2JI"
      },
      "execution_count": 5,
      "outputs": []
    },
    {
      "cell_type": "code",
      "source": [
        "import matplotlib.pyplot as plt\n",
        "plt.scatter(inputs, outputs, c = 'g')\n",
        "plt.scatter(inputs, model(inputs), c= 'r')\n",
        "plt.show()\n",
        "print('current loss: %1.6f%', loss(model(inputs), outputs). numpy())"
      ],
      "metadata": {
        "colab": {
          "base_uri": "https://localhost:8080/",
          "height": 286
        },
        "id": "IWPOAw7CEusm",
        "outputId": "af8fa40b-519f-41fb-a030-312cc1c5be16"
      },
      "execution_count": 6,
      "outputs": [
        {
          "output_type": "display_data",
          "data": {
            "text/plain": [
              "<Figure size 432x288 with 1 Axes>"
            ],
            "image/png": "[encoded data removed]"
          },
          "metadata": {
            "needs_background": "light"
          }
        },
        {
          "output_type": "stream",
          "name": "stdout",
          "text": [
            "current loss: %1.6f% 4.8567185\n"
          ]
        }
      ]
    },
    {
      "cell_type": "code",
      "source": [
        "def train(model, inputs, outputs, learning_rate):\n",
        "  with tf.GradientTape() as t:\n",
        "    current_loss = loss(outputs,model(inputs))\n",
        "  dW, db = t.gradient(current_loss, [model.W, model.b])\n",
        "  model.W.assign_sub(learning_rate*dW)  #if learning rate is increased the value becomes larger and get inaccurate\n",
        "  model.b.assign_sub(learning_rate*db)"
      ],
      "metadata": {
        "id": "x8sz9K_dGOku"
      },
      "execution_count": 7,
      "outputs": []
    },
    {
      "cell_type": "code",
      "source": [
        "## epoch tells how manny  times the model needas to be trained...\n",
        "\n",
        "model= Model()\n",
        "ws, bs= [], []\n",
        "epochs = range(10)\n",
        "for epoch in epochs:\n",
        "  ws.append(model.W.numpy())\n",
        "  bs.append(model.b.numpy())\n",
        "  current_loss = loss(outputs, model(inputs))\n",
        "  train(model, inputs, outputs, learning_rate = 0.1)\n",
        "  print('Epoch %2d: W = %1.2f, b = %1.2f, loss = %2f' %(epoch,ws[-1], bs[-1], current_loss))\n"
      ],
      "metadata": {
        "colab": {
          "base_uri": "https://localhost:8080/"
        },
        "id": "7Xtk81bxHg7R",
        "outputId": "4a374796-5c43-4fbd-dd78-1b4a7e423f66"
      },
      "execution_count": 8,
      "outputs": [
        {
          "output_type": "stream",
          "name": "stdout",
          "text": [
            "Epoch  0: W = 5.00, b = 0.00, loss = 4.856719\n",
            "Epoch  1: W = 4.72, b = 0.27, loss = 3.484721\n",
            "Epoch  2: W = 4.50, b = 0.49, loss = 2.602598\n",
            "Epoch  3: W = 4.32, b = 0.67, loss = 2.035436\n",
            "Epoch  4: W = 4.18, b = 0.81, loss = 1.670780\n",
            "Epoch  5: W = 4.06, b = 0.92, loss = 1.436323\n",
            "Epoch  6: W = 3.97, b = 1.01, loss = 1.285578\n",
            "Epoch  7: W = 3.90, b = 1.09, loss = 1.188656\n",
            "Epoch  8: W = 3.84, b = 1.15, loss = 1.126339\n",
            "Epoch  9: W = 3.79, b = 1.19, loss = 1.086272\n"
          ]
        }
      ]
    },
    {
      "cell_type": "code",
      "source": [
        "plt.plot(epochs, ws, 'r', epochs,bs, 'b')\n",
        "plt.plot([TRUE_W]*len(epochs),'r--', [TRUE_b]*len(epochs),'b--')\n",
        "plt.legend(['W', 'b', 'True W', 'True b'])\n",
        "plt.show()"
      ],
      "metadata": {
        "id": "xm-hO5ftKWkh",
        "colab": {
          "base_uri": "https://localhost:8080/",
          "height": 265
        },
        "outputId": "58e84e9e-6489-448e-b952-569de3964891"
      },
      "execution_count": 11,
      "outputs": [
        {
          "output_type": "display_data",
          "data": {
            "text/plain": [
              "<Figure size 432x288 with 1 Axes>"
            ],
            "image/png": "[encoded data removed]"
          },
          "metadata": {
            "needs_background": "light"
          }
        }
      ]
    },
    {
      "cell_type": "code",
      "source": [
        "\n",
        "plt.scatter(inputs, outputs, c = 'g')\n",
        "plt.scatter(inputs, model(inputs), c= 'r')\n",
        "plt.show()\n",
        "print('current loss: %1.6f%', loss(model(inputs), outputs). numpy())"
      ],
      "metadata": {
        "id": "Z2qR4A49LEci",
        "colab": {
          "base_uri": "https://localhost:8080/",
          "height": 282
        },
        "outputId": "fef5dafb-780d-41f4-b74f-6d8a08f261c5"
      },
      "execution_count": 12,
      "outputs": [
        {
          "output_type": "display_data",
          "data": {
            "text/plain": [
              "<Figure size 432x288 with 1 Axes>"
            ],
            "image/png": "[encoded data removed]"
          },
          "metadata": {
            "needs_background": "light"
          }
        },
        {
          "output_type": "stream",
          "name": "stdout",
          "text": [
            "current loss: %1.6f% 1.0605106\n"
          ]
        }
      ]
    },
    {
      "cell_type": "code",
      "source": [
        "##Task ->> WAp to generate, linear data with weigth = 3.6 and bias  = 1.4, with random noise, data input size = 10000"
      ],
      "metadata": {
        "id": "iVNSQyMGLizq"
      },
      "execution_count": null,
      "outputs": []
    }
  ]
}