{
  "nbformat": 4,
  "nbformat_minor": 0,
  "metadata": {
    "colab": {
      "name": "22nd_aug_lec_1.ipynb",
      "provenance": [],
      "authorship_tag": "ABX9TyOdjaQowlGjsepO04wGhD2P",
      "include_colab_link": true
    },
    "kernelspec": {
      "name": "python3",
      "display_name": "Python 3"
    },
    "language_info": {
      "name": "python"
    },
    "accelerator": "GPU",
    "gpuClass": "standard"
  },
  "cells": [
    {
      "cell_type": "markdown",
      "metadata": {
        "id": "view-in-github",
        "colab_type": "text"
      },
      "source": [
        "<a href=\"https://colab.research.google.com/github/SigmaRajput/ML_classes_2022/blob/master/22nd_aug_lec_1.ipynb\" target=\"_parent\"><img src=\"https://colab.research.google.com/assets/colab-badge.svg\" alt=\"Open In Colab\"/></a>"
      ]
    },
    {
      "cell_type": "code",
      "execution_count": 15,
      "metadata": {
        "id": "nitsOJdR3Y9D"
      },
      "outputs": [],
      "source": [
        "#difference between classification and regrestion\n",
        "\n",
        "import tensorflow as tf\n",
        "\n",
        "#for data generation weight and bias is needed\n",
        "TRUE_W = 3.6\n",
        "TRUE_b = 1.4\n",
        "\n",
        "NUM_EXAMPLES = 10000\n",
        "learning_rate = 1.0\n",
        "\n",
        "inputs = tf.random.normal(shape = [NUM_EXAMPLES])\n",
        "noise = tf.random.normal(shape = [NUM_EXAMPLES])\n",
        "outputs = inputs * TRUE_W+ TRUE_b + noise #### y = mx + c -->> m is weight and bias is y intercept"
      ]
    },
    {
      "cell_type": "code",
      "source": [
        "import matplotlib.pyplot as plt\n",
        "plt.scatter(inputs,outputs, c = 'b')"
      ],
      "metadata": {
        "colab": {
          "base_uri": "https://localhost:8080/",
          "height": 282
        },
        "id": "u9DcX7AUAt_M",
        "outputId": "82773528-252f-46d4-81cb-9757987b4297"
      },
      "execution_count": 16,
      "outputs": [
        {
          "output_type": "execute_result",
          "data": {
            "text/plain": [
              "<matplotlib.collections.PathCollection at 0x7f0f0197e6d0>"
            ]
          },
          "metadata": {},
          "execution_count": 16
        },
        {
          "output_type": "display_data",
          "data": {
            "text/plain": [
              "<Figure size 432x288 with 1 Axes>"
            ],
            "image/png": "[encoded data removed]"
          },
          "metadata": {
            "needs_background": "light"
          }
        }
      ]
    },
    {
      "cell_type": "code",
      "source": [
        "class Model(object):\n",
        "  def __init__(self):\n",
        "    self.W = tf.Variable(5.0)\n",
        "    self.b = tf.Variable(0.0)\n",
        "  \n",
        "  def __call__(self,x):\n",
        "    return self.W * x + self.b ### output calculation\n",
        "  \n",
        "model = Model()\n",
        "assert model(3.0).numpy() == 15.0"
      ],
      "metadata": {
        "id": "eIJjHG8sA37a"
      },
      "execution_count": 4,
      "outputs": []
    },
    {
      "cell_type": "code",
      "source": [
        "## to find diff between calculated value and actial value of v\n",
        "\n",
        "def loss(target_y, predicted_y):\n",
        "  return tf. reduce_mean(tf.square(target_y - predicted_y))"
      ],
      "metadata": {
        "id": "f7-0IIG4D2JI"
      },
      "execution_count": 5,
      "outputs": []
    },
    {
      "cell_type": "code",
      "source": [
        "import matplotlib.pyplot as plt\n",
        "plt.scatter(inputs, outputs, c = 'g')\n",
        "plt.scatter(inputs, model(inputs), c= 'r')\n",
        "plt.show()\n",
        "print('current loss: %1.6f%', loss(model(inputs), outputs). numpy())"
      ],
      "metadata": {
        "colab": {
          "base_uri": "https://localhost:8080/",
          "height": 282
        },
        "id": "IWPOAw7CEusm",
        "outputId": "232125ed-e954-42be-8691-65373675df79"
      },
      "execution_count": 12,
      "outputs": [
        {
          "output_type": "display_data",
          "data": {
            "text/plain": [
              "<Figure size 432x288 with 1 Axes>"
            ],
            "image/png": "[encoded data removed]"
          },
          "metadata": {
            "needs_background": "light"
          }
        },
        {
          "output_type": "stream",
          "name": "stdout",
          "text": [
            "current loss: %1.6f% 9.256357\n"
          ]
        }
      ]
    },
    {
      "cell_type": "code",
      "source": [
        "def train(model, inputs, outputs, learning_rate):\n",
        "  with tf.GradientTape() as t:\n",
        "    current_loss = loss(outputs,model(inputs))\n",
        "  dW, db = t.gradient(current_loss, [model.W, model.b])\n",
        "  model.W.assign_sub(learning_rate*dW)  #if learning rate is increased the value becomes larger and get inaccurate\n",
        "  model.b.assign_sub(learning_rate*db)"
      ],
      "metadata": {
        "id": "x8sz9K_dGOku"
      },
      "execution_count": 18,
      "outputs": []
    },
    {
      "cell_type": "code",
      "source": [
        "## epoch tells how manny  times the model needas to be trained...\n",
        "\n",
        "model= Model()\n",
        "ws, bs= [], []\n",
        "epochs = range(10)\n",
        "for epoch in epochs:\n",
        "  ws.append(model.W.numpy())\n",
        "  bs.append(model.b.numpy())\n",
        "  current_loss = loss(outputs, model(inputs))\n",
        "  train(model, inputs, outputs, learning_rate = 0.1)\n",
        "  print('Epoch %2d: W = %1.2f, b = %1.2f, loss = %2f', (epoch,ws[-1], bs[-1], current_loss))\n"
      ],
      "metadata": {
        "colab": {
          "base_uri": "https://localhost:8080/",
          "height": 130
        },
        "id": "7Xtk81bxHg7R",
        "outputId": "b2d36319-1e25-4bfe-9349-58b9a809b671"
      },
      "execution_count": 21,
      "outputs": [
        {
          "output_type": "error",
          "ename": "SyntaxError",
          "evalue": "ignored",
          "traceback": [
            "\u001b[0;36m  File \u001b[0;32m\"<ipython-input-21-887607f8a3b0>\"\u001b[0;36m, line \u001b[0;32m11\u001b[0m\n\u001b[0;31m    print('Epoch %2d: W = %1.2f, b = %1.2f, loss = %2f', %(epoch,ws[-1], bs[-1], current_loss)!)\u001b[0m\n\u001b[0m                                                         ^\u001b[0m\n\u001b[0;31mSyntaxError\u001b[0m\u001b[0;31m:\u001b[0m invalid syntax\n"
          ]
        }
      ]
    },
    {
      "cell_type": "code",
      "source": [
        "plt.plot(epochs, ws, 'r', epochs,bs, 'b')\n",
        "plt.plot([TRUE_W]*len(epochs), 'r' , [TRUE_b]*(epochs), 'b')\n",
        "plt.legend()"
      ],
      "metadata": {
        "id": "xm-hO5ftKWkh"
      },
      "execution_count": null,
      "outputs": []
    },
    {
      "cell_type": "code",
      "source": [
        "\n",
        "plt.scatter(inputs, outputs, c = 'g')\n",
        "plt.scatter(inputs, model(inputs), c= 'r')\n",
        "plt.show()\n",
        "print('current loss: %1.6f%', loss(model(inputs), outputs). numpy())"
      ],
      "metadata": {
        "id": "Z2qR4A49LEci"
      },
      "execution_count": null,
      "outputs": []
    },
    {
      "cell_type": "code",
      "source": [
        "##Task ->> WAp to generate, linear data with weigth = 3.6 and bias  = 1.4, with random noise, data input size = 10000"
      ],
      "metadata": {
        "id": "iVNSQyMGLizq"
      },
      "execution_count": null,
      "outputs": []
    }
  ]
}